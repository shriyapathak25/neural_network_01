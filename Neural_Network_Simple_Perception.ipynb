{
  "nbformat": 4,
  "nbformat_minor": 0,
  "metadata": {
    "colab": {
      "provenance": []
    },
    "kernelspec": {
      "name": "python3",
      "display_name": "Python 3"
    },
    "language_info": {
      "name": "python"
    }
  },
  "cells": [
    {
      "cell_type": "markdown",
      "source": [
        "ans 1. Deep Learning and AI: Deep learning is a subset of machine learning that uses neural networks to analyze data. It's a key aspect of artificial intelligence (AI), enabling machines to learn, reason, and interact with humans more effectively.\n",
        "\n",
        "ans 2. Neural Network: A neural network is a computational model inspired by the human brain's structure. It consists of interconnected nodes (neurons) that process and transmit information. Types include feedforward, recurrent, convolutional, and autoencoder networks.\n",
        "\n",
        "ans 3. Mathematical Structure: A neural network's mathematical structure involves interconnected nodes with weights, biases, and activation functions. These components enable the network to learn complex patterns and relationships in data.\n",
        "\n",
        "ans 4. Activation Function: An activation function introduces non-linearity to a neural network, allowing it to learn and represent complex relationships. It's essential for enabling the network to generalize and make predictions.\n",
        "\n",
        "ans 5. Common Activation Functions: Some common activation functions include:\n",
        "    - Sigmoid\n",
        "    - ReLU (Rectified Linear Unit)\n",
        "    - Tanh (Hyperbolic Tangent)\n",
        "    - Leaky ReLU\n",
        "    - Softmax\n",
        "\n",
        "ans 6. Multilayer Neural Network: A multilayer neural network, also known as a deep neural network, consists of multiple layers of interconnected nodes. This architecture enables the network to learn hierarchical representations of data.\n",
        "\n",
        "ans 7. Loss Function: A loss function measures the difference between the network's predictions and actual outputs. It's crucial for neural network training, as it guides the optimization process to minimize errors.\n",
        "\n",
        "ans 8. Common Loss Functions: Some common loss functions include:\n",
        "    - Mean Squared Error (MSE)\n",
        "    - Cross-Entropy Loss\n",
        "    - Binary Cross-Entropy Loss\n",
        "    - Categorical Cross-Entropy Loss\n",
        "\n",
        "ans 9. Neural Network Learning: A neural network learns through a process called backpropagation, where the network adjusts its weights and biases to minimize the loss function.\n",
        "\n",
        "ans 10. Optimizer: An optimizer is a crucial component of neural network training, responsible for adjusting the network's weights and biases to minimize the loss function. Common optimizers include Stochastic Gradient Descent (SGD), Adam, and RMSprop.\n",
        "\n",
        "ans 11. Common Optimizers:\n",
        "    - SGD (Stochastic Gradient Descent): Updates weights based on a single sample's gradient.\n",
        "    - Adam: Combines benefits of SGD and RMSprop, adapting learning rates for each parameter.\n",
        "    - RMSprop: Divides learning rate by an exponentially decaying average of squared gradients.\n",
        "    - Adagrad: Adapts learning rate for each parameter based on past gradients.\n",
        "\n",
        "ans 12. Forward and Backward Propagation:\n",
        "    - Forward Propagation: Input data flows through the network, generating output.\n",
        "    - Backward Propagation: Errors are propagated backwards, adjusting weights and biases to minimize loss.\n",
        "\n",
        "ans 13. Weight Initialization:\n",
        "    - Weight initialization sets initial values for weights in a neural network.\n",
        "    - Proper initialization impacts training, affecting convergence speed and accuracy.\n",
        "    - Common methods include Xavier initialization, Kaiming initialization, and random initialization.\n",
        "\n",
        "ans 14. Vanishing Gradient Problem:\n",
        "    - The vanishing gradient problem occurs when gradients become extremely small during backpropagation.\n",
        "    - This causes weights in earlier layers to update slowly, hindering learning.\n",
        "\n",
        "ans 15. Exploding Gradient Problem:\n",
        "    - The exploding gradient problem occurs when gradients become extremely large during backpropagation.\n",
        "    - This causes weights to update drastically, leading to instability and divergence.\n"
      ],
      "metadata": {
        "id": "RHDzvEsCaTYh"
      }
    },
    {
      "cell_type": "code",
      "source": [
        "# ans 1\n",
        "\n",
        "from sklearn.linear_model import Perceptron\n",
        "import numpy as np\n",
        "\n",
        "# Sample dataset (XOR function)\n",
        "X = np.array([[0, 0], [0, 1], [1, 0], [1, 1]])\n",
        "y = np.array([0, 1, 1, 0])  # Binary classification labels\n",
        "\n",
        "# Create a Perceptron instance\n",
        "perceptron = Perceptron(max_iter=1000, eta0=0.1, random_state=42)\n",
        "\n",
        "# Train the perceptron\n",
        "perceptron.fit(X, y)\n",
        "\n",
        "# Make predictions\n",
        "predictions = perceptron.predict(X)\n",
        "print(\"Predictions:\", predictions)\n",
        "\n",
        "# Evaluate the model\n",
        "accuracy = perceptron.score(X, y)\n",
        "print(\"Accuracy:\", accuracy)\n"
      ],
      "metadata": {
        "colab": {
          "base_uri": "https://localhost:8080/"
        },
        "id": "TynE9dCzbheh",
        "outputId": "44e704c7-605b-4855-ce00-fce08f527183"
      },
      "execution_count": 6,
      "outputs": [
        {
          "output_type": "stream",
          "name": "stdout",
          "text": [
            "Predictions: [0 0 0 0]\n",
            "Accuracy: 0.5\n"
          ]
        }
      ]
    },
    {
      "cell_type": "code",
      "execution_count": 17,
      "metadata": {
        "colab": {
          "base_uri": "https://localhost:8080/"
        },
        "id": "j4QvYG0daSmw",
        "outputId": "36711d89-212c-43ff-833d-4dbf7485e4a9"
      },
      "outputs": [
        {
          "output_type": "stream",
          "name": "stderr",
          "text": [
            "/usr/local/lib/python3.11/dist-packages/keras/src/layers/core/dense.py:87: UserWarning: Do not pass an `input_shape`/`input_dim` argument to a layer. When using Sequential models, prefer using an `Input(shape)` object as the first layer in the model instead.\n",
            "  super().__init__(activity_regularizer=activity_regularizer, **kwargs)\n"
          ]
        }
      ],
      "source": [
        "# ans 2\n",
        "from keras.models import Sequential\n",
        "from keras.layers import Dense\n",
        "\n",
        "model = Sequential()\n",
        "model.add(Dense(64, activation='relu', input_shape=(784,)))  # hidden layer\n",
        "model.add(Dense(1, activation='sigmoid'))  # output layer\n",
        "model.compile(loss='binary_crossentropy', optimizer='adam', metrics=['accuracy'])\n"
      ]
    },
    {
      "cell_type": "code",
      "source": [
        "# ans 3\n",
        "## Keras uses Xavier initialization by default for layers.\n",
        "## You can specify the initializer when creating a layer:\n",
        "\n",
        "from keras.initializers import glorot_uniform\n",
        "\n",
        "model.add(Dense(64, activation='relu', kernel_initializer=glorot_uniform(seed=42)))"
      ],
      "metadata": {
        "id": "p4Ko2YRrbF7s"
      },
      "execution_count": 18,
      "outputs": []
    },
    {
      "cell_type": "code",
      "source": [
        "# ans 4\n",
        "\n",
        "from keras.models import Sequential\n",
        "from keras.layers import Dense\n",
        "\n",
        "model = Sequential()\n",
        "model.add(Dense(64, activation='relu', input_shape=(784,)))  # ReLU activation\n",
        "model.add(Dense(32, activation='tanh'))  # Tanh activation\n",
        "model.add(Dense(1, activation='sigmoid'))  # Sigmoid activation\n"
      ],
      "metadata": {
        "colab": {
          "base_uri": "https://localhost:8080/"
        },
        "id": "JOZHBonebQH1",
        "outputId": "785cd914-b54f-4278-d0f6-1f188b2e5139"
      },
      "execution_count": 7,
      "outputs": [
        {
          "output_type": "stream",
          "name": "stderr",
          "text": [
            "/usr/local/lib/python3.11/dist-packages/keras/src/layers/core/dense.py:87: UserWarning: Do not pass an `input_shape`/`input_dim` argument to a layer. When using Sequential models, prefer using an `Input(shape)` object as the first layer in the model instead.\n",
            "  super().__init__(activity_regularizer=activity_regularizer, **kwargs)\n"
          ]
        }
      ]
    },
    {
      "cell_type": "code",
      "source": [
        "# ans 5\n",
        "\n",
        "from keras.models import Sequential\n",
        "from keras.layers import Dense, Dropout\n",
        "\n",
        "model = Sequential()\n",
        "model.add(Dense(64, activation='relu', input_shape=(784,)))\n",
        "model.add(Dropout(0.2))  # Dropout with 20% dropout rate\n",
        "model.add(Dense(32, activation='relu'))\n",
        "model.add(Dropout(0.2))  # Dropout with 20% dropout rate\n"
      ],
      "metadata": {
        "id": "Gv8UIcQxbudt"
      },
      "execution_count": 8,
      "outputs": []
    },
    {
      "cell_type": "code",
      "source": [
        "# ans 6\n",
        "\n",
        "import numpy as np\n",
        "\n",
        "# Define the neural network architecture\n",
        "input_size = 784\n",
        "hidden_size = 64\n",
        "output_size = 1\n",
        "\n",
        "# Initialize weights and biases\n",
        "weights1 = np.random.rand(input_size, hidden_size)\n",
        "bias1 = np.zeros((1, hidden_size))\n",
        "weights2 = np.random.rand(hidden_size, output_size)\n",
        "bias2 = np.zeros((1, output_size))\n",
        "\n",
        "# Define the activation functions\n",
        "def sigmoid(x):\n",
        "    return 1 / (1 + np.exp(-x))\n",
        "\n",
        "def relu(x):\n",
        "    return np.maximum(x, 0)\n",
        "\n",
        "# Forward propagation\n",
        "def forward_propagation(inputs):\n",
        "    hidden_layer = relu(np.dot(inputs, weights1) + bias1)\n",
        "    output_layer = sigmoid(np.dot(hidden_layer, weights2) + bias2)\n",
        "    return output_layer\n",
        "\n",
        "# Test the forward propagation\n",
        "inputs = np.random.rand(1, input_size)\n",
        "output = forward_propagation(inputs)\n",
        "print(output)\n"
      ],
      "metadata": {
        "colab": {
          "base_uri": "https://localhost:8080/"
        },
        "id": "rptyK0hAbzr2",
        "outputId": "80dcf780-14a0-499f-c96b-0c8d65a71246"
      },
      "execution_count": 9,
      "outputs": [
        {
          "output_type": "stream",
          "name": "stdout",
          "text": [
            "[[1.]]\n"
          ]
        }
      ]
    },
    {
      "cell_type": "code",
      "source": [
        "# ans 7\n",
        "\n",
        "from keras.models import Sequential\n",
        "from keras.layers import Dense, BatchNormalization\n",
        "\n",
        "model = Sequential()\n",
        "model.add(Dense(64, activation='relu', input_shape=(784,)))\n",
        "model.add(BatchNormalization())  # Batch normalization layer\n",
        "model.add(Dense(32, activation='relu'))\n",
        "model.add(BatchNormalization())  # Batch normalization layer"
      ],
      "metadata": {
        "id": "vOMDxF4Rb7IG"
      },
      "execution_count": 10,
      "outputs": []
    },
    {
      "cell_type": "code",
      "source": [
        "# ans 8\n",
        "\n",
        "import matplotlib.pyplot as plt\n",
        "import numpy as np\n",
        "from tensorflow import keras # Import the Keras API from TensorFlow\n",
        "\n",
        "# Load a dataset (e.g., MNIST) - you will need to install tensorflow\n",
        "(X_train, y_train), (X_test, y_test) = keras.datasets.mnist.load_data()\n",
        "\n",
        "# Preprocess the data (flatten and normalize)\n",
        "X_train = X_train.reshape(-1, 784).astype('float32') / 255.0\n",
        "X_test = X_test.reshape(-1, 784).astype('float32') / 255.0\n",
        "\n",
        "# Ensure the model architecture matches the input shape\n",
        "from keras.models import Sequential\n",
        "from keras.layers import Dense, BatchNormalization\n",
        "\n",
        "# Re-define the model to ensure it's built with the correct input shape if it wasn't defined previously\n",
        "model = Sequential()\n",
        "model.add(Dense(64, activation='relu', input_shape=(784,)))\n",
        "model.add(BatchNormalization())\n",
        "model.add(Dense(32, activation='relu'))\n",
        "model.add(BatchNormalization())\n",
        "model.add(Dense(10, activation='softmax')) # Changed output layer for MNIST (10 classes)\n",
        "\n",
        "# Compile the model with appropriate loss and metrics for multi-class classification\n",
        "model.compile(optimizer='adam',\n",
        "              loss='sparse_categorical_crossentropy',\n",
        "              metrics=['accuracy'])\n",
        "\n",
        "# Train the model and save history\n",
        "history = model.fit(X_train, y_train, epochs=10, validation_data=(X_test, y_test))\n",
        "\n",
        "# Plot accuracy and loss curves\n",
        "plt.plot(history.history['accuracy'], label='Training Accuracy')\n",
        "plt.plot(history.history['val_accuracy'], label='Validation Accuracy')\n",
        "plt.plot(history.history['loss'], label='Training Loss')\n",
        "plt.plot(history.history['val_loss'], label='Validation Loss')\n",
        "plt.legend()\n",
        "plt.show()"
      ],
      "metadata": {
        "colab": {
          "base_uri": "https://localhost:8080/",
          "height": 866
        },
        "id": "LrD__fdAcA1C",
        "outputId": "fd10c0bd-98da-4ede-a825-ede46bf90b39"
      },
      "execution_count": 13,
      "outputs": [
        {
          "output_type": "stream",
          "name": "stdout",
          "text": [
            "Downloading data from https://storage.googleapis.com/tensorflow/tf-keras-datasets/mnist.npz\n",
            "\u001b[1m11490434/11490434\u001b[0m \u001b[32m━━━━━━━━━━━━━━━━━━━━\u001b[0m\u001b[37m\u001b[0m \u001b[1m0s\u001b[0m 0us/step\n"
          ]
        },
        {
          "output_type": "stream",
          "name": "stderr",
          "text": [
            "/usr/local/lib/python3.11/dist-packages/keras/src/layers/core/dense.py:87: UserWarning: Do not pass an `input_shape`/`input_dim` argument to a layer. When using Sequential models, prefer using an `Input(shape)` object as the first layer in the model instead.\n",
            "  super().__init__(activity_regularizer=activity_regularizer, **kwargs)\n"
          ]
        },
        {
          "output_type": "stream",
          "name": "stdout",
          "text": [
            "Epoch 1/10\n",
            "\u001b[1m1875/1875\u001b[0m \u001b[32m━━━━━━━━━━━━━━━━━━━━\u001b[0m\u001b[37m\u001b[0m \u001b[1m11s\u001b[0m 4ms/step - accuracy: 0.8535 - loss: 0.5070 - val_accuracy: 0.9555 - val_loss: 0.1503\n",
            "Epoch 2/10\n",
            "\u001b[1m1875/1875\u001b[0m \u001b[32m━━━━━━━━━━━━━━━━━━━━\u001b[0m\u001b[37m\u001b[0m \u001b[1m9s\u001b[0m 4ms/step - accuracy: 0.9533 - loss: 0.1573 - val_accuracy: 0.9627 - val_loss: 0.1212\n",
            "Epoch 3/10\n",
            "\u001b[1m1875/1875\u001b[0m \u001b[32m━━━━━━━━━━━━━━━━━━━━\u001b[0m\u001b[37m\u001b[0m \u001b[1m11s\u001b[0m 6ms/step - accuracy: 0.9637 - loss: 0.1169 - val_accuracy: 0.9672 - val_loss: 0.1072\n",
            "Epoch 4/10\n",
            "\u001b[1m1875/1875\u001b[0m \u001b[32m━━━━━━━━━━━━━━━━━━━━\u001b[0m\u001b[37m\u001b[0m \u001b[1m12s\u001b[0m 7ms/step - accuracy: 0.9700 - loss: 0.0978 - val_accuracy: 0.9685 - val_loss: 0.0988\n",
            "Epoch 5/10\n",
            "\u001b[1m1875/1875\u001b[0m \u001b[32m━━━━━━━━━━━━━━━━━━━━\u001b[0m\u001b[37m\u001b[0m \u001b[1m12s\u001b[0m 7ms/step - accuracy: 0.9741 - loss: 0.0838 - val_accuracy: 0.9711 - val_loss: 0.0911\n",
            "Epoch 6/10\n",
            "\u001b[1m1875/1875\u001b[0m \u001b[32m━━━━━━━━━━━━━━━━━━━━\u001b[0m\u001b[37m\u001b[0m \u001b[1m17s\u001b[0m 5ms/step - accuracy: 0.9752 - loss: 0.0760 - val_accuracy: 0.9722 - val_loss: 0.0901\n",
            "Epoch 7/10\n",
            "\u001b[1m1875/1875\u001b[0m \u001b[32m━━━━━━━━━━━━━━━━━━━━\u001b[0m\u001b[37m\u001b[0m \u001b[1m12s\u001b[0m 5ms/step - accuracy: 0.9787 - loss: 0.0646 - val_accuracy: 0.9734 - val_loss: 0.0845\n",
            "Epoch 8/10\n",
            "\u001b[1m1875/1875\u001b[0m \u001b[32m━━━━━━━━━━━━━━━━━━━━\u001b[0m\u001b[37m\u001b[0m \u001b[1m8s\u001b[0m 4ms/step - accuracy: 0.9816 - loss: 0.0578 - val_accuracy: 0.9756 - val_loss: 0.0851\n",
            "Epoch 9/10\n",
            "\u001b[1m1875/1875\u001b[0m \u001b[32m━━━━━━━━━━━━━━━━━━━━\u001b[0m\u001b[37m\u001b[0m \u001b[1m8s\u001b[0m 4ms/step - accuracy: 0.9812 - loss: 0.0564 - val_accuracy: 0.9757 - val_loss: 0.0826\n",
            "Epoch 10/10\n",
            "\u001b[1m1875/1875\u001b[0m \u001b[32m━━━━━━━━━━━━━━━━━━━━\u001b[0m\u001b[37m\u001b[0m \u001b[1m11s\u001b[0m 4ms/step - accuracy: 0.9833 - loss: 0.0521 - val_accuracy: 0.9758 - val_loss: 0.0806\n"
          ]
        },
        {
          "output_type": "display_data",
          "data": {
            "text/plain": [
              "<Figure size 640x480 with 1 Axes>"
            ],
            "image/png": "[encoded data removed]"
          },
          "metadata": {}
        }
      ]
    },
    {
      "cell_type": "code",
      "source": [
        "# ans 9\n",
        "\n",
        "from keras.optimizers import Adam\n",
        "\n",
        "# Define the optimizer with gradient clipping\n",
        "optimizer = Adam(clipnorm=1.0)  # Clip gradients to a maximum norm of 1.0\n",
        "# optimizer = Adam(clipvalue=0.5)  # Clip gradients to a maximum value of 0.5\n",
        "\n",
        "model.compile(loss='binary_crossentropy', optimizer=optimizer, metrics=['accuracy'])\n"
      ],
      "metadata": {
        "id": "xucQqtihcFbc"
      },
      "execution_count": 14,
      "outputs": []
    },
    {
      "cell_type": "code",
      "source": [
        "# ans 10\n",
        "\n",
        "import keras.backend as K\n",
        "\n",
        "def custom_loss(y_true, y_pred):\n",
        "    return K.mean(K.square(y_pred - y_true)) + 0.1 * K.mean(K.abs(y_pred - y_true))\n",
        "\n",
        "model.compile(loss=custom_loss, optimizer='adam')\n"
      ],
      "metadata": {
        "id": "6ldp5uWfcmRa"
      },
      "execution_count": 15,
      "outputs": []
    },
    {
      "cell_type": "code",
      "source": [
        "# ans 11\n",
        "\n",
        "from keras.utils import plot_model\n",
        "\n",
        "plot_model(model, to_file='model.png', show_shapes=True, show_layer_names=True)\n",
        "\n",
        "model.summary()\n"
      ],
      "metadata": {
        "colab": {
          "base_uri": "https://localhost:8080/",
          "height": 321
        },
        "id": "hEHyOGancuAQ",
        "outputId": "ff2575e0-013d-40c6-8977-4c914ca6470c"
      },
      "execution_count": 16,
      "outputs": [
        {
          "output_type": "display_data",
          "data": {
            "text/plain": [
              "\u001b[1mModel: \"sequential_5\"\u001b[0m\n"
            ],
            "text/html": [
              "<pre style=\"white-space:pre;overflow-x:auto;line-height:normal;font-family:Menlo,'DejaVu Sans Mono',consolas,'Courier New',monospace\"><span style=\"font-weight: bold\">Model: \"sequential_5\"</span>\n",
              "</pre>\n"
            ]
          },
          "metadata": {}
        },
        {
          "output_type": "display_data",
          "data": {
            "text/plain": [
              "┏━━━━━━━━━━━━━━━━━━━━━━━━━━━━━━━━━┳━━━━━━━━━━━━━━━━━━━━━━━━┳━━━━━━━━━━━━━━━┓\n",
              "┃\u001b[1m \u001b[0m\u001b[1mLayer (type)                   \u001b[0m\u001b[1m \u001b[0m┃\u001b[1m \u001b[0m\u001b[1mOutput Shape          \u001b[0m\u001b[1m \u001b[0m┃\u001b[1m \u001b[0m\u001b[1m      Param #\u001b[0m\u001b[1m \u001b[0m┃\n",
              "┡━━━━━━━━━━━━━━━━━━━━━━━━━━━━━━━━━╇━━━━━━━━━━━━━━━━━━━━━━━━╇━━━━━━━━━━━━━━━┩\n",
              "│ dense_13 (\u001b[38;5;33mDense\u001b[0m)                │ (\u001b[38;5;45mNone\u001b[0m, \u001b[38;5;34m64\u001b[0m)             │        \u001b[38;5;34m50,240\u001b[0m │\n",
              "├─────────────────────────────────┼────────────────────────┼───────────────┤\n",
              "│ batch_normalization_2           │ (\u001b[38;5;45mNone\u001b[0m, \u001b[38;5;34m64\u001b[0m)             │           \u001b[38;5;34m256\u001b[0m │\n",
              "│ (\u001b[38;5;33mBatchNormalization\u001b[0m)            │                        │               │\n",
              "├─────────────────────────────────┼────────────────────────┼───────────────┤\n",
              "│ dense_14 (\u001b[38;5;33mDense\u001b[0m)                │ (\u001b[38;5;45mNone\u001b[0m, \u001b[38;5;34m32\u001b[0m)             │         \u001b[38;5;34m2,080\u001b[0m │\n",
              "├─────────────────────────────────┼────────────────────────┼───────────────┤\n",
              "│ batch_normalization_3           │ (\u001b[38;5;45mNone\u001b[0m, \u001b[38;5;34m32\u001b[0m)             │           \u001b[38;5;34m128\u001b[0m │\n",
              "│ (\u001b[38;5;33mBatchNormalization\u001b[0m)            │                        │               │\n",
              "├─────────────────────────────────┼────────────────────────┼───────────────┤\n",
              "│ dense_15 (\u001b[38;5;33mDense\u001b[0m)                │ (\u001b[38;5;45mNone\u001b[0m, \u001b[38;5;34m10\u001b[0m)             │           \u001b[38;5;34m330\u001b[0m │\n",
              "└─────────────────────────────────┴────────────────────────┴───────────────┘\n"
            ],
            "text/html": [
              "<pre style=\"white-space:pre;overflow-x:auto;line-height:normal;font-family:Menlo,'DejaVu Sans Mono',consolas,'Courier New',monospace\">┏━━━━━━━━━━━━━━━━━━━━━━━━━━━━━━━━━┳━━━━━━━━━━━━━━━━━━━━━━━━┳━━━━━━━━━━━━━━━┓\n",
              "┃<span style=\"font-weight: bold\"> Layer (type)                    </span>┃<span style=\"font-weight: bold\"> Output Shape           </span>┃<span style=\"font-weight: bold\">       Param # </span>┃\n",
              "┡━━━━━━━━━━━━━━━━━━━━━━━━━━━━━━━━━╇━━━━━━━━━━━━━━━━━━━━━━━━╇━━━━━━━━━━━━━━━┩\n",
              "│ dense_13 (<span style=\"color: #0087ff; text-decoration-color: #0087ff\">Dense</span>)                │ (<span style=\"color: #00d7ff; text-decoration-color: #00d7ff\">None</span>, <span style=\"color: #00af00; text-decoration-color: #00af00\">64</span>)             │        <span style=\"color: #00af00; text-decoration-color: #00af00\">50,240</span> │\n",
              "├─────────────────────────────────┼────────────────────────┼───────────────┤\n",
              "│ batch_normalization_2           │ (<span style=\"color: #00d7ff; text-decoration-color: #00d7ff\">None</span>, <span style=\"color: #00af00; text-decoration-color: #00af00\">64</span>)             │           <span style=\"color: #00af00; text-decoration-color: #00af00\">256</span> │\n",
              "│ (<span style=\"color: #0087ff; text-decoration-color: #0087ff\">BatchNormalization</span>)            │                        │               │\n",
              "├─────────────────────────────────┼────────────────────────┼───────────────┤\n",
              "│ dense_14 (<span style=\"color: #0087ff; text-decoration-color: #0087ff\">Dense</span>)                │ (<span style=\"color: #00d7ff; text-decoration-color: #00d7ff\">None</span>, <span style=\"color: #00af00; text-decoration-color: #00af00\">32</span>)             │         <span style=\"color: #00af00; text-decoration-color: #00af00\">2,080</span> │\n",
              "├─────────────────────────────────┼────────────────────────┼───────────────┤\n",
              "│ batch_normalization_3           │ (<span style=\"color: #00d7ff; text-decoration-color: #00d7ff\">None</span>, <span style=\"color: #00af00; text-decoration-color: #00af00\">32</span>)             │           <span style=\"color: #00af00; text-decoration-color: #00af00\">128</span> │\n",
              "│ (<span style=\"color: #0087ff; text-decoration-color: #0087ff\">BatchNormalization</span>)            │                        │               │\n",
              "├─────────────────────────────────┼────────────────────────┼───────────────┤\n",
              "│ dense_15 (<span style=\"color: #0087ff; text-decoration-color: #0087ff\">Dense</span>)                │ (<span style=\"color: #00d7ff; text-decoration-color: #00d7ff\">None</span>, <span style=\"color: #00af00; text-decoration-color: #00af00\">10</span>)             │           <span style=\"color: #00af00; text-decoration-color: #00af00\">330</span> │\n",
              "└─────────────────────────────────┴────────────────────────┴───────────────┘\n",
              "</pre>\n"
            ]
          },
          "metadata": {}
        },
        {
          "output_type": "display_data",
          "data": {
            "text/plain": [
              "\u001b[1m Total params: \u001b[0m\u001b[38;5;34m53,034\u001b[0m (207.16 KB)\n"
            ],
            "text/html": [
              "<pre style=\"white-space:pre;overflow-x:auto;line-height:normal;font-family:Menlo,'DejaVu Sans Mono',consolas,'Courier New',monospace\"><span style=\"font-weight: bold\"> Total params: </span><span style=\"color: #00af00; text-decoration-color: #00af00\">53,034</span> (207.16 KB)\n",
              "</pre>\n"
            ]
          },
          "metadata": {}
        },
        {
          "output_type": "display_data",
          "data": {
            "text/plain": [
              "\u001b[1m Trainable params: \u001b[0m\u001b[38;5;34m52,842\u001b[0m (206.41 KB)\n"
            ],
            "text/html": [
              "<pre style=\"white-space:pre;overflow-x:auto;line-height:normal;font-family:Menlo,'DejaVu Sans Mono',consolas,'Courier New',monospace\"><span style=\"font-weight: bold\"> Trainable params: </span><span style=\"color: #00af00; text-decoration-color: #00af00\">52,842</span> (206.41 KB)\n",
              "</pre>\n"
            ]
          },
          "metadata": {}
        },
        {
          "output_type": "display_data",
          "data": {
            "text/plain": [
              "\u001b[1m Non-trainable params: \u001b[0m\u001b[38;5;34m192\u001b[0m (768.00 B)\n"
            ],
            "text/html": [
              "<pre style=\"white-space:pre;overflow-x:auto;line-height:normal;font-family:Menlo,'DejaVu Sans Mono',consolas,'Courier New',monospace\"><span style=\"font-weight: bold\"> Non-trainable params: </span><span style=\"color: #00af00; text-decoration-color: #00af00\">192</span> (768.00 B)\n",
              "</pre>\n"
            ]
          },
          "metadata": {}
        }
      ]
    },
    {
      "cell_type": "code",
      "source": [],
      "metadata": {
        "id": "WG-vzCBPdAlE"
      },
      "execution_count": null,
      "outputs": []
    }
  ]
}